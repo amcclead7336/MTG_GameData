{
 "cells": [
  {
   "cell_type": "code",
   "execution_count": 1,
   "metadata": {},
   "outputs": [
    {
     "name": "stdout",
     "output_type": "stream",
     "text": [
      "P0's Deck is: \n",
      "\t* Deck: Maestros Massacre\n",
      "\t* ID: 10\n",
      "\t* Rating: 1\n",
      "\n",
      "P1's Deck is: \n",
      "\t* Deck: Arm for Battle\n",
      "\t* ID: 17\n",
      "\t* Rating: 2\n",
      "\n"
     ]
    }
   ],
   "source": [
    "import pandas as pd\n",
    "\n",
    "Players = [\"P0\",\"P1\"]\n",
    "MatchType = \"Free\"\n",
    "\n",
    "decks_df = pd.read_csv(\"https://raw.githubusercontent.com/amcclead7336/MTG_GameData/main/Decks.csv\")\n",
    "\n",
    "base_deck = decks_df.sample(1)\n",
    "base_power = base_deck[\"Ratings 2022-11-20\"].values[0]\n",
    "\n",
    "if MatchType == \"Equal\":\n",
    "    filter_power = abs(decks_df[\"Ratings 2022-11-20\"] - base_power) == 0\n",
    "\n",
    "elif MatchType == \"Fair\":\n",
    "    filter_power = abs(decks_df[\"Ratings 2022-11-20\"] - base_power) <=1\n",
    "\n",
    "elif MatchType == \"Challenging\":\n",
    "    filter_power = abs(decks_df[\"Ratings 2022-11-20\"] - base_power) == 2\n",
    "\n",
    "elif MatchType == \"Crazy\":\n",
    "    filter_power = abs(decks_df[\"Ratings 2022-11-20\"] - base_power) > 2\n",
    "\n",
    "else:\n",
    "    filter_power = True\n",
    "\n",
    "filter_df = decks_df[(filter_power) & (decks_df['ID'] != base_deck[\"ID\"].values[0])]\n",
    "\n",
    "try:\n",
    "    other_decks = filter_df.sample(len(Players)-1)\n",
    "except ValueError:\n",
    "    print(\"Not able to find enough decks for everyone. Change match type or reduce players.\")\n",
    "    raise KeyboardInterrupt\n",
    "\n",
    "rand_selects = pd.concat([base_deck,other_decks])\n",
    "\n",
    "for i in range(len(Players)):\n",
    "    print(Players[i]+\"'s Deck is: \")\n",
    "    print(\"\\t* Deck: {0}\\n\\t* ID: {1}\\n\\t* Rating: {2}\\n\".format(rand_selects.iloc[i][1],rand_selects.iloc[i][0],rand_selects.iloc[i][3]))"
   ]
  },
  {
   "cell_type": "code",
   "execution_count": 21,
   "metadata": {},
   "outputs": [
    {
     "ename": "ValueError",
     "evalue": "invalid literal for int() with base 10: ''",
     "output_type": "error",
     "traceback": [
      "\u001b[0;31m---------------------------------------------------------------------------\u001b[0m",
      "\u001b[0;31mValueError\u001b[0m                                Traceback (most recent call last)",
      "Cell \u001b[0;32mIn[21], line 17\u001b[0m\n\u001b[1;32m     15\u001b[0m \u001b[38;5;28;01mfor\u001b[39;00m player \u001b[38;5;129;01min\u001b[39;00m Players:\n\u001b[1;32m     16\u001b[0m     times\u001b[38;5;241m.\u001b[39mappend(\u001b[38;5;28minput\u001b[39m(player\u001b[38;5;241m+\u001b[39m\u001b[38;5;124m\"\u001b[39m\u001b[38;5;124mTime: \u001b[39m\u001b[38;5;124m\"\u001b[39m))\n\u001b[0;32m---> 17\u001b[0m     life_totals\u001b[38;5;241m.\u001b[39mappend(\u001b[38;5;28;43mint\u001b[39;49m\u001b[43m(\u001b[49m\u001b[38;5;28;43minput\u001b[39;49m\u001b[43m(\u001b[49m\u001b[43mplayer\u001b[49m\u001b[38;5;241;43m+\u001b[39;49m\u001b[38;5;124;43m\"\u001b[39;49m\u001b[38;5;124;43mEndLife: \u001b[39;49m\u001b[38;5;124;43m\"\u001b[39;49m\u001b[43m)\u001b[49m\u001b[43m)\u001b[49m)\n\u001b[1;32m     18\u001b[0m     total_cards\u001b[38;5;241m.\u001b[39mappend(\u001b[38;5;28mint\u001b[39m(\u001b[38;5;28minput\u001b[39m(player\u001b[38;5;241m+\u001b[39m\u001b[38;5;124m\"\u001b[39m\u001b[38;5;124mTotalCards: \u001b[39m\u001b[38;5;124m\"\u001b[39m)))\n\u001b[1;32m     19\u001b[0m     results\u001b[38;5;241m.\u001b[39mappend(\u001b[38;5;28mint\u001b[39m(\u001b[38;5;28minput\u001b[39m(player\u001b[38;5;241m+\u001b[39m\u001b[38;5;124m\"\u001b[39m\u001b[38;5;124mWin: \u001b[39m\u001b[38;5;124m\"\u001b[39m)))\n",
      "\u001b[0;31mValueError\u001b[0m: invalid literal for int() with base 10: ''"
     ]
    }
   ],
   "source": [
    "import datetime\n",
    "\n",
    "check = input(\"Have pulled the latest data: \")\n",
    "if check == '' or check.lower()[0] != \"n\":\n",
    "    today1 = datetime.date.today()\n",
    "\n",
    "    deck_ids = []\n",
    "    for deck_id in rand_selects[\"ID\"]:\n",
    "        deck_ids.append(deck_id)\n",
    "\n",
    "    times=[]\n",
    "    life_totals = []\n",
    "    total_cards = []\n",
    "    results = []\n",
    "    for player in Players:\n",
    "        times.append(input(player+\"Time: \"))\n",
    "        life_totals.append(int(input(player+\"EndLife: \")))\n",
    "        total_cards.append(int(input(player+\"TotalCards: \")))\n",
    "        results.append(int(input(player+\"Win: \")))\n",
    "\n",
    "    dur = datetime.timedelta()\n",
    "    dttimes=[]\n",
    "    for ptime in times:\n",
    "        h,m,s = ptime.split(\":\")\n",
    "        d = datetime.timedelta(hours=int(h), minutes=int(m), seconds=int(s))\n",
    "        dttimes.append(d)\n",
    "        dur += d\n",
    "    print(str(dttimes[0]))\n",
    "\n",
    "    format_time = \"%H:%M:%S\"\n",
    "\n",
    "    row = {\"Date\":today1, \"P0Deck\":deck_ids[0], \"P1Deck\":deck_ids[1], \"P0EndLife\":life_totals[0], \"P1EndLife\":life_totals[1], \"P0Time\":str(dttimes[0]), \"P1Time\":str(dttimes[1]), \"TotalTime\":str(dur),\n",
    "    \"P0TotalCards\":total_cards[0], \"P1TotalCards\":total_cards[1], \"P0Win\":results[0], \"P1Win\":results[1], \"P0\":0, \"P1\":1}\n",
    "\n",
    "    df_gd = pd.read_csv(\"GameData.csv\")\n",
    "    df_gd = df_gd.append(row,ignore_index=True)\n",
    "    print(df_gd.tail())\n",
    "    check = input(\"Do you aprove change: \")\n",
    "\n",
    "    if check == '' or check.lower()[0] != \"n\":\n",
    "        df_gd.to_csv(\"GameData.csv\",index=False)\n",
    "        "
   ]
  }
 ],
 "metadata": {
  "kernelspec": {
   "display_name": "Python 3",
   "language": "python",
   "name": "python3"
  },
  "language_info": {
   "codemirror_mode": {
    "name": "ipython",
    "version": 3
   },
   "file_extension": ".py",
   "mimetype": "text/x-python",
   "name": "python",
   "nbconvert_exporter": "python",
   "pygments_lexer": "ipython3",
   "version": "3.10.8"
  }
 },
 "nbformat": 4,
 "nbformat_minor": 2
}
