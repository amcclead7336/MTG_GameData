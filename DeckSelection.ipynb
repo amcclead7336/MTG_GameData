{
 "cells": [
  {
   "cell_type": "markdown",
   "metadata": {},
   "source": [
    "# Deck Selection\n",
    "Randomly selects decks for players."
   ]
  },
  {
   "cell_type": "code",
   "execution_count": 1,
   "metadata": {},
   "outputs": [
    {
     "name": "stdout",
     "output_type": "stream",
     "text": [
      "P0's Deck is: \n",
      "\t* Deck: Mishra's Burnished Banner\n",
      "\t* ID: 13\n",
      "\t* Rating: 3\n",
      "\n",
      "P1's Deck is: \n",
      "\t* Deck: Undead Unleashed\n",
      "\t* ID: 15\n",
      "\t* Rating: 3\n",
      "\n"
     ]
    }
   ],
   "source": [
    "import pandas as pd\n",
    "\n",
    "Players = [\"P0\",\"P1\"]\n",
    "MatchType = \"Free\"\n",
    "Rating_Col = \"Ratings 2022-11-20\"\n",
    "\n",
    "decks_df = pd.read_csv(\"https://raw.githubusercontent.com/amcclead7336/MTG_GameData/main/Decks.csv\")\n",
    "\n",
    "base_deck = decks_df.sample(1)\n",
    "base_power = base_deck[Rating_Col].values[0]\n",
    "\n",
    "if MatchType == \"Equal\":\n",
    "    filter_power = abs(decks_df[Rating_Col] - base_power) == 0\n",
    "\n",
    "elif MatchType == \"Fair\":\n",
    "    filter_power = abs(decks_df[Rating_Col] - base_power) <=1\n",
    "\n",
    "elif MatchType == \"Challenging\":\n",
    "    filter_power = abs(decks_df[Rating_Col] - base_power) == 2\n",
    "\n",
    "elif MatchType == \"Crazy\":\n",
    "    filter_power = abs(decks_df[Rating_Col] - base_power) > 2\n",
    "\n",
    "else:\n",
    "    filter_power = True\n",
    "\n",
    "filter_df = decks_df[(filter_power) & (decks_df['ID'] != base_deck[\"ID\"].values[0])]\n",
    "\n",
    "try:\n",
    "    other_decks = filter_df.sample(len(Players)-1)\n",
    "except ValueError:\n",
    "    print(\"Not able to find enough decks for everyone. Change match type or reduce players.\")\n",
    "    raise KeyboardInterrupt\n",
    "\n",
    "rand_selects = pd.concat([base_deck,other_decks])\n",
    "\n",
    "for i in range(len(Players)):\n",
    "    print(Players[i]+\"'s Deck is: \")\n",
    "    print(\"\\t* Deck: {0}\\n\\t* ID: {1}\\n\\t* Rating: {2}\\n\".format(rand_selects.iloc[i][1],rand_selects.iloc[i][0],rand_selects.iloc[i][3]))"
   ]
  },
  {
   "cell_type": "markdown",
   "metadata": {},
   "source": [
    "# Game Play Update Script\n",
    "Takes data to append new row in GameData.csv"
   ]
  },
  {
   "cell_type": "code",
   "execution_count": 2,
   "metadata": {},
   "outputs": [
    {
     "name": "stdout",
     "output_type": "stream",
     "text": [
      "Have pulled the latest data: \n",
      "P0Time: 0:5:15\n",
      "P0EndLife: 14\n",
      "P0TotalCards: 15\n",
      "P0Win: 1\n",
      "P1Time: 0:15:15\n",
      "P1EndLife: -1\n",
      "P1TotalCards: 15\n",
      "P1Win: 0\n",
      "0:05:15\n",
      "          Date  P0Deck  P1Deck  P0EndLife  P1EndLife   P0Time   P1Time  \\\n",
      "8   2022-12-26       8       2          0         17  0:29:38  0:51:53   \n",
      "9   2023-01-06       3       9         -1          9  0:20:50  0:28:04   \n",
      "10  2023-01-06       6      11         -3         31  0:20:00  0:21:00   \n",
      "11  2023-01-06      16      12         -6         19  0:17:00  0:17:00   \n",
      "12  2023-01-08       2       4         14         -1  0:05:15  0:15:15   \n",
      "\n",
      "   TotalTime  P0TotalCards  P1TotalCards  P0Win  P1Win  P0  P1  \n",
      "8    1:21:31            25            65      0      1   0   1  \n",
      "9    0:48:54            20            33      0      1   0   1  \n",
      "10   0:41:00            23            33      0      1   0   1  \n",
      "11   0:34:00            18            18      0      1   0   1  \n",
      "12   0:20:30            15            15      1      0   0   1  \n",
      "Do you aprove change: \n"
     ]
    }
   ],
   "source": [
    "import datetime\n",
    "\n",
    "check = input(\"Have pulled the latest data: \")\n",
    "if check == '' or check.lower()[0] != \"n\":\n",
    "    today1 = datetime.date.today()\n",
    "\n",
    "    deck_ids = []\n",
    "    for deck_id in rand_selects[\"ID\"]:\n",
    "        deck_ids.append(deck_id)\n",
    "\n",
    "    times=[]\n",
    "    life_totals = []\n",
    "    total_cards = []\n",
    "    results = []\n",
    "    for player in Players:\n",
    "        times.append(input(player+\"Time: \"))\n",
    "        life_totals.append(int(input(player+\"EndLife: \")))\n",
    "        total_cards.append(int(input(player+\"TotalCards: \")))\n",
    "        results.append(int(input(player+\"Win: \")))\n",
    "\n",
    "    dur = datetime.timedelta()\n",
    "    dttimes=[]\n",
    "    for ptime in times:\n",
    "        h,m,s = ptime.split(\":\")\n",
    "        d = datetime.timedelta(hours=int(h), minutes=int(m), seconds=int(s))\n",
    "        dttimes.append(d)\n",
    "        dur += d\n",
    "    print(str(dttimes[0]))\n",
    "\n",
    "    format_time = \"%H:%M:%S\"\n",
    "\n",
    "    row = {\"Date\":today1, \"P0Deck\":deck_ids[0], \"P1Deck\":deck_ids[1], \"P0EndLife\":life_totals[0], \"P1EndLife\":life_totals[1], \"P0Time\":str(dttimes[0]), \"P1Time\":str(dttimes[1]), \"TotalTime\":str(dur),\n",
    "    \"P0TotalCards\":total_cards[0], \"P1TotalCards\":total_cards[1], \"P0Win\":results[0], \"P1Win\":results[1], \"P0\":0, \"P1\":1}\n",
    "\n",
    "    df_gd = pd.read_csv(\"GameData.csv\")\n",
    "    df_gd = df_gd.append(row,ignore_index=True)\n",
    "    print(df_gd.tail())\n",
    "    check = input(\"Do you aprove change: \")\n",
    "\n",
    "    if check == '' or check.lower()[0] != \"n\":\n",
    "        df_gd.to_csv(\"GameData.csv\",index=False)\n",
    "        "
   ]
  },
  {
   "cell_type": "markdown",
   "metadata": {},
   "source": [
    "# Add Deck\n",
    "Add Deck to Decks.csv"
   ]
  },
  {
   "cell_type": "code",
   "execution_count": 3,
   "metadata": {},
   "outputs": [
    {
     "name": "stdout",
     "output_type": "stream",
     "text": [
      "Deck Title: Nature of the Beast\n",
      "Commander played with deck: Marath, Will of the Wild\n",
      "Deck Colors (wbgrk): rgw\n",
      "    ID           Deck Title  ... Green                Notes\n",
      "15  15     Undead Unleashed  ...     0                  NaN\n",
      "16  16    Lorehord Legacies  ...     0  Upgraded 2022-11-19\n",
      "17  17       Arm for Battle  ...     0                  NaN\n",
      "18  18      Spirit Squadron  ...     0                  NaN\n",
      "19  19  Nature of the Beast  ...     1                  NaN\n",
      "\n",
      "[5 rows x 10 columns]\n",
      "Proceed: \n"
     ]
    }
   ],
   "source": [
    "import pandas as pd\n",
    "\n",
    "decks_df2 = pd.read_csv(\"https://raw.githubusercontent.com/amcclead7336/MTG_GameData/main/Decks.csv\")\n",
    "\n",
    "new_deck = {\"ID\":decks_df2[\"ID\"].max() +1,\n",
    "            \"Deck Title\":\"\",\n",
    "           \"Commander\":\"\",\n",
    "           \"White\":0,\n",
    "           \"Blue\":0,\n",
    "           \"Black\":0,\n",
    "           \"Red\":0,\n",
    "           \"Green\":0}\n",
    "\n",
    "new_deck[\"Deck Title\"] = input(\"Deck Title: \")\n",
    "new_deck[\"Commander\"] = input(\"Commander played with deck: \")\n",
    "colors = input(\"Deck Colors (wbgrk): \").lower()\n",
    "\n",
    "color_dict = {\"w\":\"White\", \"b\":\"Blue\", \"g\":\"Green\", \"r\":\"Red\", \"k\":\"Black\"}\n",
    "for k, color in color_dict.items():\n",
    "    if k in colors:\n",
    "        new_deck[color] = 1\n",
    "\n",
    "\n",
    "decks_df2 = decks_df2.append(new_deck,ignore_index=True)\n",
    "\n",
    "print(decks_df2.tail())\n",
    "check = input(\"Proceed: \")\n",
    "if check == '' or check.lower()[0] != \"n\":\n",
    "    decks_df2.to_csv(\"Decks.csv\",index=False)\n"
   ]
  }
 ],
 "metadata": {
  "kernelspec": {
   "display_name": "Python 3",
   "language": "python",
   "name": "python3"
  },
  "language_info": {
   "codemirror_mode": {
    "name": "ipython",
    "version": 3
   },
   "file_extension": ".py",
   "mimetype": "text/x-python",
   "name": "python",
   "nbconvert_exporter": "python",
   "pygments_lexer": "ipython3",
   "version": "3.6.6+"
  }
 },
 "nbformat": 4,
 "nbformat_minor": 2
}
