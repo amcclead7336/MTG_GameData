{
 "cells": [
  {
   "cell_type": "code",
   "execution_count": 1,
   "metadata": {},
   "outputs": [
    {
     "name": "stdout",
     "output_type": "stream",
     "text": [
      "P0's Deck is: \n",
      "\t* Deck: Riveteer Rampage\n",
      "\t* ID: 9\n",
      "\t* Rating: 4\n",
      "\n",
      "P1's Deck is: \n",
      "\t* Deck: Dungeons of Death\n",
      "\t* ID: 4\n",
      "\t* Rating: 2\n",
      "\n"
     ]
    }
   ],
   "source": [
    "import numpy as np\n",
    "import pandas as pd\n",
    "\n",
    "Players = [\"P0\",\"P1\"]\n",
    "MatchType = \"Challenging\"\n",
    "\n",
    "decks_df = pd.read_csv(\"https://raw.githubusercontent.com/amcclead7336/MTG_GameData/main/Decks.csv\")\n",
    "\n",
    "i=0\n",
    "while True:\n",
    "    rand_selects = decks_df.sample(len(Players))\n",
    "    diff = abs(rand_selects.iloc[0][3] - rand_selects.iloc[1][3])\n",
    "    \n",
    "    if MatchType==\"Equal\" and diff == 0:\n",
    "        break\n",
    "    if MatchType==\"Fair\" and diff <= 1:\n",
    "        break\n",
    "    if MatchType==\"Challenging\" and diff == 2:\n",
    "        break\n",
    "    if MatchType==\"Crazy\" and diff > 2:\n",
    "        break\n",
    "    i+=1\n",
    "    if i>1000:\n",
    "        print(\"Couldn't find match\")\n",
    "        break\n",
    "        \n",
    "for i in range(len(Players)):\n",
    "    print(Players[i]+\"'s Deck is: \")\n",
    "    print(\"\\t* Deck: {0}\\n\\t* ID: {1}\\n\\t* Rating: {2}\\n\".format(rand_selects.iloc[i][1],rand_selects.iloc[i][0],rand_selects.iloc[i][3]))"
   ]
  }
 ],
 "metadata": {
  "kernelspec": {
   "display_name": "Python 3",
   "language": "python",
   "name": "python3"
  },
  "language_info": {
   "codemirror_mode": {
    "name": "ipython",
    "version": 3
   },
   "file_extension": ".py",
   "mimetype": "text/x-python",
   "name": "python",
   "nbconvert_exporter": "python",
   "pygments_lexer": "ipython3",
   "version": "3.6.6+"
  }
 },
 "nbformat": 4,
 "nbformat_minor": 2
}
