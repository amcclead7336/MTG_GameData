{
 "cells": [
  {
   "cell_type": "markdown",
   "metadata": {},
   "source": [
    "# Deck Selection\n",
    "Randomly selects decks for players."
   ]
  },
  {
   "cell_type": "code",
   "execution_count": 1,
   "metadata": {},
   "outputs": [
    {
     "name": "stdout",
     "output_type": "stream",
     "text": [
      "P0's Deck is: \n",
      "\t* Deck: Necron Dynasties\n",
      "\t* ID: 20\n",
      "\t* Rating: nan\n",
      "\n",
      "P1's Deck is: \n",
      "\t* Deck: Mishra's Burnished Banner\n",
      "\t* ID: 13\n",
      "\t* Rating: 3.0\n",
      "\n"
     ]
    }
   ],
   "source": [
    "import pandas as pd\n",
    "import func\n",
    "\n",
    "Players = [\"P0\",\"P1\"]\n",
    "MatchType = \"Free\"\n",
    "\n",
    "decks_df = pd.read_csv(\"https://raw.githubusercontent.com/amcclead7336/MTG_GameData/main/Decks.csv\")\n",
    "\n",
    "Rating_Col = func.get_curr_ratings(decks_df.columns)\n",
    "\n",
    "base_deck = decks_df.sample(1)\n",
    "base_power = base_deck[Rating_Col].values[0]\n",
    "\n",
    "if MatchType == \"Equal\":\n",
    "    filter_power = abs(decks_df[Rating_Col] - base_power) == 0\n",
    "\n",
    "elif MatchType == \"Fair\":\n",
    "    filter_power = abs(decks_df[Rating_Col] - base_power) <=1\n",
    "\n",
    "elif MatchType == \"Challenging\":\n",
    "    filter_power = abs(decks_df[Rating_Col] - base_power) == 2\n",
    "\n",
    "elif MatchType == \"Crazy\":\n",
    "    filter_power = abs(decks_df[Rating_Col] - base_power) > 2\n",
    "\n",
    "else:\n",
    "    filter_power = True\n",
    "\n",
    "filter_df = decks_df[(filter_power) & (decks_df['ID'] != base_deck[\"ID\"].values[0])]\n",
    "\n",
    "try:\n",
    "    other_decks = filter_df.sample(len(Players)-1)\n",
    "except ValueError:\n",
    "    print(\"Not able to find enough decks for everyone. Change match type or reduce players.\")\n",
    "    raise KeyboardInterrupt\n",
    "\n",
    "rand_selects = pd.concat([base_deck,other_decks])\n",
    "\n",
    "for i in range(len(Players)):\n",
    "    print(Players[i]+\"'s Deck is: \")\n",
    "    print(\"\\t* Deck: {0}\\n\\t* ID: {1}\\n\\t* Rating: {2}\\n\".format(rand_selects.iloc[i][1],rand_selects.iloc[i][0],rand_selects.iloc[i][3]))"
   ]
  },
  {
   "cell_type": "markdown",
   "metadata": {},
   "source": [
    "# Game Play Update Script\n",
    "Takes data to append new row in GameData.csv"
   ]
  },
  {
   "cell_type": "code",
   "execution_count": 2,
   "metadata": {},
   "outputs": [
    {
     "name": "stdout",
     "output_type": "stream",
     "text": [
      "Have pulled the latest data: \n",
      "Do you want to auto pull Deck ID or manual enter [m:A]: m\n",
      "P0's Deck: 19\n",
      "P1's Deck: 20\n",
      "P0Time: 15:01\n",
      "P0EndLife: -2\n",
      "P0TotalCards: 12\n",
      "P0Win: 0\n",
      "P1Time: 20:32\n",
      "P1EndLife: 33\n",
      "P1TotalCards: 30\n",
      "P1Win: 1\n",
      "0:15:01\n",
      "          Date P0Deck P1Deck  P0EndLife  ...  P0Win P1Win P0 P1\n",
      "9   2023-01-06      3      9         -1  ...      0     1  0  1\n",
      "10  2023-01-06      6     11         -3  ...      0     1  0  1\n",
      "11  2023-01-06     16     12         -6  ...      0     1  0  1\n",
      "12  2023-01-17     19     17         -5  ...      0     1  0  1\n",
      "13  2023-01-17     19     20         -2  ...      0     1  0  1\n",
      "\n",
      "[5 rows x 14 columns]\n",
      "Do you aprove change: \n"
     ]
    }
   ],
   "source": [
    "import datetime\n",
    "\n",
    "Players = [\"P0\",\"P1\"]\n",
    "check = input(\"Have pulled the latest data: \")\n",
    "if check == '' or check.lower()[0] != \"n\":\n",
    "    today1 = datetime.date.today()\n",
    "\n",
    "    deck_ids = []\n",
    "    check = input(\"Do you want to auto pull Deck ID or manual enter [m:A]: \").lower()\n",
    "    if check == \"\" or check[0] != \"m\":\n",
    "        for deck_id in rand_selects[\"ID\"]:\n",
    "            deck_ids.append(deck_id)\n",
    "    else:\n",
    "        for player in Players:\n",
    "            deck_ids.append(input(player+\"'s Deck: \"))\n",
    "\n",
    "    times=[]\n",
    "    life_totals = []\n",
    "    total_cards = []\n",
    "    results = []\n",
    "    for player in Players:\n",
    "        times.append(input(player+\"Time: \"))\n",
    "        life_totals.append(int(input(player+\"EndLife: \")))\n",
    "        total_cards.append(int(input(player+\"TotalCards: \")))\n",
    "        results.append(int(input(player+\"Win: \")))\n",
    "\n",
    "    dur = datetime.timedelta()\n",
    "    dttimes=[]\n",
    "    for ptime in times:\n",
    "        if ptime.count(\":\") == 2:\n",
    "            h,m,s = ptime.split(\":\")\n",
    "        if ptime.count(\":\") == 1:\n",
    "            h,m,s = [0] + ptime.split(\":\")\n",
    "        d = datetime.timedelta(hours=int(h), minutes=int(m), seconds=int(s))\n",
    "        dttimes.append(d)\n",
    "        dur += d\n",
    "    print(str(dttimes[0]))\n",
    "\n",
    "    format_time = \"%H:%M:%S\"\n",
    "\n",
    "    row = {\"Date\":today1, \"P0Deck\":deck_ids[0], \"P1Deck\":deck_ids[1], \"P0EndLife\":life_totals[0], \"P1EndLife\":life_totals[1], \"P0Time\":str(dttimes[0]), \"P1Time\":str(dttimes[1]), \"TotalTime\":str(dur),\n",
    "    \"P0TotalCards\":total_cards[0], \"P1TotalCards\":total_cards[1], \"P0Win\":results[0], \"P1Win\":results[1], \"P0\":0, \"P1\":1}\n",
    "\n",
    "    df_gd = pd.read_csv(\"GameData.csv\")\n",
    "    df_gd = df_gd.append(row,ignore_index=True)\n",
    "    print(df_gd.tail())\n",
    "    check = input(\"Do you aprove change: \")\n",
    "\n",
    "    if check == '' or check.lower()[0] != \"n\":\n",
    "        df_gd.to_csv(\"GameData.csv\",index=False)\n",
    "        "
   ]
  },
  {
   "cell_type": "markdown",
   "metadata": {},
   "source": [
    "# Add Deck\n",
    "Add Deck to Decks.csv"
   ]
  },
  {
   "cell_type": "code",
   "execution_count": null,
   "metadata": {},
   "outputs": [
    {
     "name": "stdout",
     "output_type": "stream",
     "text": [
      "Deck Title: Necron Dynasties\n",
      "Commander played with deck: Szarekh, the Silent King\n",
      "Deck Colors (wbgrk): k\n",
      "    ID           Deck Title                     Commander  Ratings 2022-11-20  \\\n",
      "16  16    Lorehord Legacies      Osgir, the Reconstructor                 2.0   \n",
      "17  17       Arm for Battle         Wyleth, Soul of Steel                 2.0   \n",
      "18  18      Spirit Squadron  Millicent, Restless Revenant                 3.0   \n",
      "19  19  Nature of the Beast      Marath, Will of the Wild                 NaN   \n",
      "20  20     Necron Dynasties      Szarekh, the Silent King                 NaN   \n",
      "\n",
      "    White  Blue  Black  Red  Green                Notes  \n",
      "16      1     0      0    1      0  Upgraded 2022-11-19  \n",
      "17      1     0      0    1      0                  NaN  \n",
      "18      1     1      0    0      0                  NaN  \n",
      "19      1     0      0    1      1                  NaN  \n",
      "20      0     0      1    0      0                  NaN  \n",
      "Proceed: \n"
     ]
    }
   ],
   "source": [
    "import pandas as pd\n",
    "\n",
    "decks_df2 = pd.read_csv(\"https://raw.githubusercontent.com/amcclead7336/MTG_GameData/main/Decks.csv\")\n",
    "\n",
    "new_deck = {\"ID\":decks_df2[\"ID\"].max() +1,\n",
    "            \"Deck Title\":\"\",\n",
    "           \"Commander\":\"\",\n",
    "           \"White\":0,\n",
    "           \"Blue\":0,\n",
    "           \"Black\":0,\n",
    "           \"Red\":0,\n",
    "           \"Green\":0}\n",
    "\n",
    "new_deck[\"Deck Title\"] = input(\"Deck Title: \")\n",
    "new_deck[\"Commander\"] = input(\"Commander played with deck: \")\n",
    "colors = input(\"Deck Colors (wbgrk): \").lower()\n",
    "\n",
    "color_dict = {\"w\":\"White\", \"b\":\"Blue\", \"g\":\"Green\", \"r\":\"Red\", \"k\":\"Black\"}\n",
    "for k, color in color_dict.items():\n",
    "    if k in colors:\n",
    "        new_deck[color] = 1\n",
    "\n",
    "\n",
    "decks_df2 = decks_df2.append(new_deck,ignore_index=True)\n",
    "\n",
    "print(decks_df2.tail())\n",
    "check = input(\"Proceed: \")\n",
    "if check == '' or check.lower()[0] != \"n\":\n",
    "    decks_df2.to_csv(\"Decks.csv\",index=False)\n"
   ]
  }
 ],
 "metadata": {
  "kernelspec": {
   "display_name": "Python 3",
   "language": "python",
   "name": "python3"
  },
  "language_info": {
   "codemirror_mode": {
    "name": "ipython",
    "version": 3
   },
   "file_extension": ".py",
   "mimetype": "text/x-python",
   "name": "python",
   "nbconvert_exporter": "python",
   "pygments_lexer": "ipython3",
   "version": "3.6.6+"
  }
 },
 "nbformat": 4,
 "nbformat_minor": 2
}
