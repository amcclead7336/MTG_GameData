{
 "cells": [
  {
   "cell_type": "code",
   "execution_count": 1,
   "metadata": {},
   "outputs": [
    {
     "name": "stdout",
     "output_type": "stream",
     "text": [
      "P0's Deck is: \n",
      "\t* Deck: Maestros Massacre\n",
      "\t* ID: 10\n",
      "\t* Rating: 1\n",
      "\n",
      "P1's Deck is: \n",
      "\t* Deck: Arm for Battle\n",
      "\t* ID: 17\n",
      "\t* Rating: 2\n",
      "\n"
     ]
    }
   ],
   "source": [
    "import pandas as pd\n",
    "\n",
    "Players = [\"P0\",\"P1\"]\n",
    "MatchType = \"Free\"\n",
    "\n",
    "decks_df = pd.read_csv(\"https://raw.githubusercontent.com/amcclead7336/MTG_GameData/main/Decks.csv\")\n",
    "\n",
    "base_deck = decks_df.sample(1)\n",
    "base_power = base_deck[\"Ratings 2022-11-20\"].values[0]\n",
    "\n",
    "if MatchType == \"Equal\":\n",
    "    filter_power = abs(decks_df[\"Ratings 2022-11-20\"] - base_power) == 0\n",
    "\n",
    "elif MatchType == \"Fair\":\n",
    "    filter_power = abs(decks_df[\"Ratings 2022-11-20\"] - base_power) <=1\n",
    "\n",
    "elif MatchType == \"Challenging\":\n",
    "    filter_power = abs(decks_df[\"Ratings 2022-11-20\"] - base_power) == 2\n",
    "\n",
    "elif MatchType == \"Crazy\":\n",
    "    filter_power = abs(decks_df[\"Ratings 2022-11-20\"] - base_power) > 2\n",
    "\n",
    "else:\n",
    "    filter_power = True\n",
    "\n",
    "filter_df = decks_df[(filter_power) & (decks_df['ID'] != base_deck[\"ID\"].values[0])]\n",
    "\n",
    "try:\n",
    "    other_decks = filter_df.sample(len(Players)-1)\n",
    "except ValueError:\n",
    "    print(\"Not able to find enough decks for everyone. Change match type or reduce players.\")\n",
    "    raise KeyboardInterrupt\n",
    "\n",
    "rand_selects = pd.concat([base_deck,other_decks])\n",
    "\n",
    "for i in range(len(Players)):\n",
    "    print(Players[i]+\"'s Deck is: \")\n",
    "    print(\"\\t* Deck: {0}\\n\\t* ID: {1}\\n\\t* Rating: {2}\\n\".format(rand_selects.iloc[i][1],rand_selects.iloc[i][0],rand_selects.iloc[i][3]))"
   ]
  }
 ],
 "metadata": {
  "kernelspec": {
   "display_name": "Python 3",
   "language": "python",
   "name": "python3"
  },
  "language_info": {
   "codemirror_mode": {
    "name": "ipython",
    "version": 3
   },
   "file_extension": ".py",
   "mimetype": "text/x-python",
   "name": "python",
   "nbconvert_exporter": "python",
   "pygments_lexer": "ipython3",
   "version": "3.10.8"
  }
 },
 "nbformat": 4,
 "nbformat_minor": 2
}
