{
 "cells": [
  {
   "cell_type": "markdown",
   "metadata": {},
   "source": [
    "# Deck Selection\n",
    "Randomly selects decks for players."
   ]
  },
  {
   "cell_type": "code",
   "execution_count": 1,
   "metadata": {},
   "outputs": [
    {
     "name": "stdout",
     "output_type": "stream",
     "text": [
      "P0's Deck is: \n",
      "\t* Deck: Mishra's Burnished Banner\n",
      "\t* ID: 13\n",
      "\t* Rating: 3\n",
      "\n",
      "P1's Deck is: \n",
      "\t* Deck: Undead Unleashed\n",
      "\t* ID: 15\n",
      "\t* Rating: 3\n",
      "\n"
     ]
    }
   ],
   "source": [
    "import pandas as pd\n",
    "\n",
    "Players = [\"P0\",\"P1\"]\n",
    "MatchType = \"Free\"\n",
    "Rating_Col = \"Ratings 2022-11-20\"\n",
    "\n",
    "decks_df = pd.read_csv(\"https://raw.githubusercontent.com/amcclead7336/MTG_GameData/main/Decks.csv\")\n",
    "\n",
    "base_deck = decks_df.sample(1)\n",
    "base_power = base_deck[Rating_Col].values[0]\n",
    "\n",
    "if MatchType == \"Equal\":\n",
    "    filter_power = abs(decks_df[Rating_Col] - base_power) == 0\n",
    "\n",
    "elif MatchType == \"Fair\":\n",
    "    filter_power = abs(decks_df[Rating_Col] - base_power) <=1\n",
    "\n",
    "elif MatchType == \"Challenging\":\n",
    "    filter_power = abs(decks_df[Rating_Col] - base_power) == 2\n",
    "\n",
    "elif MatchType == \"Crazy\":\n",
    "    filter_power = abs(decks_df[Rating_Col] - base_power) > 2\n",
    "\n",
    "else:\n",
    "    filter_power = True\n",
    "\n",
    "filter_df = decks_df[(filter_power) & (decks_df['ID'] != base_deck[\"ID\"].values[0])]\n",
    "\n",
    "try:\n",
    "    other_decks = filter_df.sample(len(Players)-1)\n",
    "except ValueError:\n",
    "    print(\"Not able to find enough decks for everyone. Change match type or reduce players.\")\n",
    "    raise KeyboardInterrupt\n",
    "\n",
    "rand_selects = pd.concat([base_deck,other_decks])\n",
    "\n",
    "for i in range(len(Players)):\n",
    "    print(Players[i]+\"'s Deck is: \")\n",
    "    print(\"\\t* Deck: {0}\\n\\t* ID: {1}\\n\\t* Rating: {2}\\n\".format(rand_selects.iloc[i][1],rand_selects.iloc[i][0],rand_selects.iloc[i][3]))"
   ]
  },
  {
   "cell_type": "markdown",
   "metadata": {},
   "source": [
    "# Game Play Update Script\n",
    "Takes data to append new row in GameData.csv"
   ]
  },
  {
   "cell_type": "code",
   "execution_count": 2,
   "metadata": {},
   "outputs": [
    {
     "name": "stdout",
     "output_type": "stream",
     "text": [
      "Have pulled the latest data: \n",
      "Do you want to auto pull Deck ID or manual enter [m:A]: m\n",
      "P0's Deck: 14\n",
      "P1's Deck: 7\n",
      "P0Time: 0:1:15\n",
      "P0EndLife: -1\n",
      "P0TotalCards: 15\n",
      "P0Win: 0\n",
      "P1Time: 2:30\n",
      "P1EndLife: 5\n",
      "P1TotalCards: 7\n",
      "P1Win: 1\n"
     ]
    },
    {
     "ename": "ValueError",
     "evalue": "not enough values to unpack (expected 3, got 2)",
     "output_type": "error",
     "traceback": [
      "\u001b[0;31m---------------------------------------------------------------------------\u001b[0m",
      "\u001b[0;31mValueError\u001b[0m                                Traceback (most recent call last)",
      "\u001b[0;32m<ipython-input-2-daac028fbad0>\u001b[0m in \u001b[0;36m<module>\u001b[0;34m\u001b[0m\n\u001b[1;32m     28\u001b[0m     \u001b[0mdttimes\u001b[0m\u001b[0;34m=\u001b[0m\u001b[0;34m[\u001b[0m\u001b[0;34m]\u001b[0m\u001b[0;34m\u001b[0m\u001b[0m\n\u001b[1;32m     29\u001b[0m     \u001b[0;32mfor\u001b[0m \u001b[0mptime\u001b[0m \u001b[0;32min\u001b[0m \u001b[0mtimes\u001b[0m\u001b[0;34m:\u001b[0m\u001b[0;34m\u001b[0m\u001b[0m\n\u001b[0;32m---> 30\u001b[0;31m         \u001b[0mh\u001b[0m\u001b[0;34m,\u001b[0m\u001b[0mm\u001b[0m\u001b[0;34m,\u001b[0m\u001b[0ms\u001b[0m \u001b[0;34m=\u001b[0m \u001b[0mptime\u001b[0m\u001b[0;34m.\u001b[0m\u001b[0msplit\u001b[0m\u001b[0;34m(\u001b[0m\u001b[0;34m\":\"\u001b[0m\u001b[0;34m)\u001b[0m\u001b[0;34m\u001b[0m\u001b[0m\n\u001b[0m\u001b[1;32m     31\u001b[0m         \u001b[0md\u001b[0m \u001b[0;34m=\u001b[0m \u001b[0mdatetime\u001b[0m\u001b[0;34m.\u001b[0m\u001b[0mtimedelta\u001b[0m\u001b[0;34m(\u001b[0m\u001b[0mhours\u001b[0m\u001b[0;34m=\u001b[0m\u001b[0mint\u001b[0m\u001b[0;34m(\u001b[0m\u001b[0mh\u001b[0m\u001b[0;34m)\u001b[0m\u001b[0;34m,\u001b[0m \u001b[0mminutes\u001b[0m\u001b[0;34m=\u001b[0m\u001b[0mint\u001b[0m\u001b[0;34m(\u001b[0m\u001b[0mm\u001b[0m\u001b[0;34m)\u001b[0m\u001b[0;34m,\u001b[0m \u001b[0mseconds\u001b[0m\u001b[0;34m=\u001b[0m\u001b[0mint\u001b[0m\u001b[0;34m(\u001b[0m\u001b[0ms\u001b[0m\u001b[0;34m)\u001b[0m\u001b[0;34m)\u001b[0m\u001b[0;34m\u001b[0m\u001b[0m\n\u001b[1;32m     32\u001b[0m         \u001b[0mdttimes\u001b[0m\u001b[0;34m.\u001b[0m\u001b[0mappend\u001b[0m\u001b[0;34m(\u001b[0m\u001b[0md\u001b[0m\u001b[0;34m)\u001b[0m\u001b[0;34m\u001b[0m\u001b[0m\n",
      "\u001b[0;31mValueError\u001b[0m: not enough values to unpack (expected 3, got 2)"
     ]
    }
   ],
   "source": [
    "import datetime\n",
    "\n",
    "Players = [\"P0\",\"P1\"]\n",
    "check = input(\"Have pulled the latest data: \")\n",
    "if check == '' or check.lower()[0] != \"n\":\n",
    "    today1 = datetime.date.today()\n",
    "\n",
    "    deck_ids = []\n",
    "    check = input(\"Do you want to auto pull Deck ID or manual enter [m:A]: \").lower()\n",
    "    if check == \"\" or check[0] != \"m\":\n",
    "        for deck_id in rand_selects[\"ID\"]:\n",
    "            deck_ids.append(deck_id)\n",
    "    else:\n",
    "        for player in Players:\n",
    "            deck_ids.append(input(player+\"'s Deck: \"))\n",
    "\n",
    "    times=[]\n",
    "    life_totals = []\n",
    "    total_cards = []\n",
    "    results = []\n",
    "    for player in Players:\n",
    "        times.append(input(player+\"Time: \"))\n",
    "        life_totals.append(int(input(player+\"EndLife: \")))\n",
    "        total_cards.append(int(input(player+\"TotalCards: \")))\n",
    "        results.append(int(input(player+\"Win: \")))\n",
    "\n",
    "    dur = datetime.timedelta()\n",
    "    dttimes=[]\n",
    "    for ptime in times:\n",
    "        if ptime.count(\":\") == 2:\n",
    "            h,m,s = ptime.split(\":\")\n",
    "        if ptime.count(\":\") == 1:\n",
    "            h,m,s = [0] + ptime.split(\":\")\n",
    "        d = datetime.timedelta(hours=int(h), minutes=int(m), seconds=int(s))\n",
    "        dttimes.append(d)\n",
    "        dur += d\n",
    "    print(str(dttimes[0]))\n",
    "\n",
    "    format_time = \"%H:%M:%S\"\n",
    "\n",
    "    row = {\"Date\":today1, \"P0Deck\":deck_ids[0], \"P1Deck\":deck_ids[1], \"P0EndLife\":life_totals[0], \"P1EndLife\":life_totals[1], \"P0Time\":str(dttimes[0]), \"P1Time\":str(dttimes[1]), \"TotalTime\":str(dur),\n",
    "    \"P0TotalCards\":total_cards[0], \"P1TotalCards\":total_cards[1], \"P0Win\":results[0], \"P1Win\":results[1], \"P0\":0, \"P1\":1}\n",
    "\n",
    "    df_gd = pd.read_csv(\"GameData.csv\")\n",
    "    df_gd = df_gd.append(row,ignore_index=True)\n",
    "    print(df_gd.tail())\n",
    "    check = input(\"Do you aprove change: \")\n",
    "\n",
    "    if check == '' or check.lower()[0] != \"n\":\n",
    "        df_gd.to_csv(\"GameData.csv\",index=False)\n",
    "        "
   ]
  },
  {
   "cell_type": "markdown",
   "metadata": {},
   "source": [
    "# Add Deck\n",
    "Add Deck to Decks.csv"
   ]
  },
  {
   "cell_type": "code",
   "execution_count": 3,
   "metadata": {},
   "outputs": [
    {
     "name": "stdout",
     "output_type": "stream",
     "text": [
      "Deck Title: Nature of the Beast\n",
      "Commander played with deck: Marath, Will of the Wild\n",
      "Deck Colors (wbgrk): rgw\n",
      "    ID           Deck Title  ... Green                Notes\n",
      "15  15     Undead Unleashed  ...     0                  NaN\n",
      "16  16    Lorehord Legacies  ...     0  Upgraded 2022-11-19\n",
      "17  17       Arm for Battle  ...     0                  NaN\n",
      "18  18      Spirit Squadron  ...     0                  NaN\n",
      "19  19  Nature of the Beast  ...     1                  NaN\n",
      "\n",
      "[5 rows x 10 columns]\n",
      "Proceed: \n"
     ]
    }
   ],
   "source": [
    "import pandas as pd\n",
    "\n",
    "decks_df2 = pd.read_csv(\"https://raw.githubusercontent.com/amcclead7336/MTG_GameData/main/Decks.csv\")\n",
    "\n",
    "new_deck = {\"ID\":decks_df2[\"ID\"].max() +1,\n",
    "            \"Deck Title\":\"\",\n",
    "           \"Commander\":\"\",\n",
    "           \"White\":0,\n",
    "           \"Blue\":0,\n",
    "           \"Black\":0,\n",
    "           \"Red\":0,\n",
    "           \"Green\":0}\n",
    "\n",
    "new_deck[\"Deck Title\"] = input(\"Deck Title: \")\n",
    "new_deck[\"Commander\"] = input(\"Commander played with deck: \")\n",
    "colors = input(\"Deck Colors (wbgrk): \").lower()\n",
    "\n",
    "color_dict = {\"w\":\"White\", \"b\":\"Blue\", \"g\":\"Green\", \"r\":\"Red\", \"k\":\"Black\"}\n",
    "for k, color in color_dict.items():\n",
    "    if k in colors:\n",
    "        new_deck[color] = 1\n",
    "\n",
    "\n",
    "decks_df2 = decks_df2.append(new_deck,ignore_index=True)\n",
    "\n",
    "print(decks_df2.tail())\n",
    "check = input(\"Proceed: \")\n",
    "if check == '' or check.lower()[0] != \"n\":\n",
    "    decks_df2.to_csv(\"Decks.csv\",index=False)\n"
   ]
  }
 ],
 "metadata": {
  "kernelspec": {
   "display_name": "Python 3",
   "language": "python",
   "name": "python3"
  },
  "language_info": {
   "codemirror_mode": {
    "name": "ipython",
    "version": 3
   },
   "file_extension": ".py",
   "mimetype": "text/x-python",
   "name": "python",
   "nbconvert_exporter": "python",
   "pygments_lexer": "ipython3",
   "version": "3.6.6+"
  }
 },
 "nbformat": 4,
 "nbformat_minor": 2
}
